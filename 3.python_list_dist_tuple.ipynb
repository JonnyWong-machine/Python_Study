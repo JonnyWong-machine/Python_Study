{
 "metadata": {
  "language_info": {
   "codemirror_mode": {
    "name": "ipython",
    "version": 3
   },
   "file_extension": ".py",
   "mimetype": "text/x-python",
   "name": "python",
   "nbconvert_exporter": "python",
   "pygments_lexer": "ipython3",
   "version": "3.7.0-final"
  },
  "orig_nbformat": 2,
  "kernelspec": {
   "name": "python3",
   "display_name": "Python 3",
   "language": "python"
  }
 },
 "nbformat": 4,
 "nbformat_minor": 2,
 "cells": [
  {
   "source": [
    "# Python容器：列表、元组、字典与集合"
   ],
   "cell_type": "markdown",
   "metadata": {}
  },
  {
   "source": [
    "## 3.1　列表和元组"
   ],
   "cell_type": "markdown",
   "metadata": {}
  },
  {
   "source": [
    "- 除字符串外， Python 还有另外两种序列结构：**`元组和列表`**\n",
    "- 与字符串不同的是， 元组和列表并不要求所含元素的种类相同，每个元素都可以是任何 Python 类型的对象。"
   ],
   "cell_type": "markdown",
   "metadata": {}
  },
  {
   "source": [
    "## 3.2　列表\n"
   ],
   "cell_type": "markdown",
   "metadata": {}
  },
  {
   "source": [
    "列表`非常适合利用顺序和位置定位某一元素`，尤其是当`元素的顺序或内容经常发生改变时`。与字符串不同，列表是`可变`的"
   ],
   "cell_type": "markdown",
   "metadata": {}
  },
  {
   "source": [
    "### 3.2.1 列表的常规操作"
   ],
   "cell_type": "markdown",
   "metadata": {}
  },
  {
   "source": [
    "$（1）使用[]或list()创建列表$"
   ],
   "cell_type": "markdown",
   "metadata": {}
  },
  {
   "cell_type": "code",
   "execution_count": 1,
   "metadata": {},
   "outputs": [
    {
     "output_type": "stream",
     "name": "stdout",
     "text": [
      "[]\n['Monday', 'Tuesday', 'Wednesday', 'Thursday', 'Friday']\n"
     ]
    }
   ],
   "source": [
    "empty_list = [ ]\n",
    "print( empty_list)\n",
    "weekdays = ['Monday', 'Tuesday', 'Wednesday', 'Thursday', 'Friday']\n",
    "print(weekdays)\n",
    "\n",
    "another_empty_list = list()"
   ]
  },
  {
   "source": [
    "$（2）使用list()将其他数据类型转换成列表$\n"
   ],
   "cell_type": "markdown",
   "metadata": {}
  },
  {
   "cell_type": "code",
   "execution_count": 2,
   "metadata": {},
   "outputs": [
    {
     "output_type": "stream",
     "name": "stdout",
     "text": [
      "['c', 'a', 't']\n['ready', 'fire', 'aim']\n"
     ]
    }
   ],
   "source": [
    "# 将一个字符串转换成了由单个字母组成的列表\n",
    "print(list('cat'))\n",
    "\n",
    "# 接下来的例子将一个元组转换成了列表\n",
    "a_tuple = ('ready', 'fire', 'aim')\n",
    "print( list(a_tuple) ) \n",
    "\n",
    "# 使用 split() 可以依据分隔符将字符串切割成由若干子串组成的列表\n",
    "birthday = '1/6/1952'\n",
    "birthday.split('/')"
   ]
  },
  {
   "source": [
    "$（3）使用[offset]获取元素$"
   ],
   "cell_type": "markdown",
   "metadata": {}
  },
  {
   "cell_type": "code",
   "execution_count": 6,
   "metadata": {},
   "outputs": [
    {
     "output_type": "execute_result",
     "data": {
      "text/plain": [
       "('Chico', 'Groucho')"
      ]
     },
     "metadata": {},
     "execution_count": 6
    }
   ],
   "source": [
    "marxes = ['Groucho', 'Chico', 'Harpo']\n",
    "marxes[1], marxes[-3]"
   ]
  },
  {
   "source": [
    "$（4）指定范围并使用切片提取元素$"
   ],
   "cell_type": "markdown",
   "metadata": {}
  },
  {
   "cell_type": "code",
   "execution_count": 11,
   "metadata": {},
   "outputs": [
    {
     "output_type": "execute_result",
     "data": {
      "text/plain": [
       "['Groucho', 'Chico']"
      ]
     },
     "metadata": {},
     "execution_count": 11
    }
   ],
   "source": [
    "marxes = ['Groucho', 'Chico', 'Harpo']\n",
    "marxes[0:2]"
   ]
  },
  {
   "cell_type": "code",
   "execution_count": 13,
   "metadata": {},
   "outputs": [
    {
     "output_type": "execute_result",
     "data": {
      "text/plain": [
       "['Groucho', 'Harpo']"
      ]
     },
     "metadata": {},
     "execution_count": 13
    }
   ],
   "source": [
    "marxes[::2]  # 起始：终止：步长"
   ]
  },
  {
   "source": [
    "### 3.2.2**`列表的“增”“删”“改”“查”`**"
   ],
   "cell_type": "markdown",
   "metadata": {}
  },
  {
   "source": [
    "#### 1.列表的增加"
   ],
   "cell_type": "markdown",
   "metadata": {}
  },
  {
   "source": [
    "$（1）使用append()添加元素至尾部$"
   ],
   "cell_type": "markdown",
   "metadata": {}
  },
  {
   "cell_type": "code",
   "execution_count": 16,
   "metadata": {},
   "outputs": [
    {
     "output_type": "execute_result",
     "data": {
      "text/plain": [
       "['Groucho', 'Chico', 'Harpo', 'Wang']"
      ]
     },
     "metadata": {},
     "execution_count": 16
    }
   ],
   "source": [
    "marxes = ['Groucho', 'Chico', 'Harpo']\n",
    "marxes.append('Wang')\n",
    "marxes"
   ]
  },
  {
   "source": [
    "$（2）使用insert()在指定位置插入元素$\n"
   ],
   "cell_type": "markdown",
   "metadata": {}
  },
  {
   "cell_type": "code",
   "execution_count": 20,
   "metadata": {},
   "outputs": [
    {
     "output_type": "execute_result",
     "data": {
      "text/plain": [
       "['Groucho', 'Wang', 'Chico', 'Harpo']"
      ]
     },
     "metadata": {},
     "execution_count": 20
    }
   ],
   "source": [
    "marxes = ['Groucho', 'Chico', 'Harpo']\n",
    "marxes.insert(1, 'Wang')\n",
    "marxes"
   ]
  },
  {
   "source": [
    "$(3)使用extend()或+=合并列表$"
   ],
   "cell_type": "markdown",
   "metadata": {}
  },
  {
   "cell_type": "code",
   "execution_count": 23,
   "metadata": {},
   "outputs": [
    {
     "output_type": "execute_result",
     "data": {
      "text/plain": [
       "['Groucho', 'Chico', 'Harpo', 'Zeppo', 'Gummo', 'Karl']"
      ]
     },
     "metadata": {},
     "execution_count": 23
    }
   ],
   "source": [
    "marxes = ['Groucho', 'Chico', 'Harpo', 'Zeppo']\n",
    "others = ['Gummo', 'Karl']\n",
    "marxes.extend(others)\n",
    "# marxes += others\n",
    "marxes"
   ]
  },
  {
   "source": [
    "#### 2.列表元素的删除"
   ],
   "cell_type": "markdown",
   "metadata": {}
  },
  {
   "source": [
    "$(1)使用del删除指定位置的元素$"
   ],
   "cell_type": "markdown",
   "metadata": {}
  },
  {
   "cell_type": "code",
   "execution_count": 28,
   "metadata": {},
   "outputs": [
    {
     "output_type": "execute_result",
     "data": {
      "text/plain": [
       "['Groucho', 'Chico', 'Zeppo']"
      ]
     },
     "metadata": {},
     "execution_count": 28
    }
   ],
   "source": [
    "marxes = ['Groucho', 'Chico', 'Harpo', 'Zeppo']\n",
    "\n",
    "del marxes[2]  #注意：del 是 Python 语句，而不是列表方法——无法通过 marxes[-2].del() 进行调用\n",
    "marxes"
   ]
  },
  {
   "source": [
    "$(2)使用remove()删除具有指定值的元素$"
   ],
   "cell_type": "markdown",
   "metadata": {}
  },
  {
   "cell_type": "code",
   "execution_count": 29,
   "metadata": {},
   "outputs": [
    {
     "output_type": "execute_result",
     "data": {
      "text/plain": [
       "['Groucho', 'Chico', 'Harpo', 'Zeppo']"
      ]
     },
     "metadata": {},
     "execution_count": 29
    }
   ],
   "source": [
    " marxes = ['Groucho', 'Chico', 'Harpo', 'Gummo', 'Zeppo']\n",
    " marxes.remove('Gummo')  # remove不关心位置\n",
    " marxes"
   ]
  },
  {
   "source": [
    "$(3)使用pop()获取并删除指定位置的元素(像堆栈)$"
   ],
   "cell_type": "markdown",
   "metadata": {}
  },
  {
   "cell_type": "code",
   "execution_count": 34,
   "metadata": {},
   "outputs": [
    {
     "output_type": "execute_result",
     "data": {
      "text/plain": [
       "(['Groucho', 'Chico', 'Harpo'], 'Zeppo')"
      ]
     },
     "metadata": {},
     "execution_count": 34
    }
   ],
   "source": [
    "marxes = ['Groucho', 'Chico', 'Harpo', 'Zeppo']\n",
    "temp = marxes.pop()  #  pop() 或 pop(-1) 则会返回列表的尾元素（默认）\n",
    "marxes,  temp   # 弹出后可以用一个变量来接受，然后使用"
   ]
  },
  {
   "cell_type": "code",
   "execution_count": 35,
   "metadata": {},
   "outputs": [
    {
     "output_type": "execute_result",
     "data": {
      "text/plain": [
       "(['Chico', 'Harpo', 'Zeppo'], 'Groucho')"
      ]
     },
     "metadata": {},
     "execution_count": 35
    }
   ],
   "source": [
    "marxes = ['Groucho', 'Chico', 'Harpo', 'Zeppo']\n",
    "temp = marxes.pop(0)  #  pop(0) 将返回列表的头元素\n",
    "marxes,  temp   # 弹出后可以用一个变量来接受，然后使用"
   ]
  },
  {
   "cell_type": "code",
   "execution_count": 36,
   "metadata": {},
   "outputs": [
    {
     "output_type": "execute_result",
     "data": {
      "text/plain": [
       "(['Groucho', 'Harpo', 'Zeppo'], 'Chico')"
      ]
     },
     "metadata": {},
     "execution_count": 36
    }
   ],
   "source": [
    "# 也可以指定弹出位置\n",
    "marxes = ['Groucho', 'Chico', 'Harpo', 'Zeppo']\n",
    "temp = marxes.pop(1)  \n",
    "marxes,  temp   # 弹出后可以用一个变量来接受，然后使用\n",
    "\n",
    "# append() <---> pop()"
   ]
  },
  {
   "source": [
    "#### 3.列表元素的查询"
   ],
   "cell_type": "markdown",
   "metadata": {}
  },
  {
   "source": [
    "$(1)使用\\ index()\\ 查询具有特定值的元素位置$"
   ],
   "cell_type": "markdown",
   "metadata": {}
  },
  {
   "cell_type": "code",
   "execution_count": 37,
   "metadata": {},
   "outputs": [
    {
     "output_type": "execute_result",
     "data": {
      "text/plain": [
       "1"
      ]
     },
     "metadata": {},
     "execution_count": 37
    }
   ],
   "source": [
    "marxes = ['Groucho', 'Chico', 'Harpo', 'Zeppo']\n",
    "marxes.index('Chico')"
   ]
  },
  {
   "source": [
    "$(2)使用~in~判断值是否存在$"
   ],
   "cell_type": "markdown",
   "metadata": {}
  },
  {
   "cell_type": "code",
   "execution_count": 38,
   "metadata": {},
   "outputs": [
    {
     "output_type": "execute_result",
     "data": {
      "text/plain": [
       "True"
      ]
     },
     "metadata": {},
     "execution_count": 38
    }
   ],
   "source": [
    "marxes = ['Groucho', 'Chico', 'Harpo', 'Zeppo']\n",
    "'Groucho' in marxes"
   ]
  },
  {
   "source": [
    "$(3)使用\\ count()\\ 记录特定值出现的次数$"
   ],
   "cell_type": "markdown",
   "metadata": {}
  },
  {
   "cell_type": "code",
   "execution_count": 39,
   "metadata": {},
   "outputs": [
    {
     "output_type": "execute_result",
     "data": {
      "text/plain": [
       "2"
      ]
     },
     "metadata": {},
     "execution_count": 39
    }
   ],
   "source": [
    "marxes = ['Groucho', 'Chico', 'Harpo', 'Zeppo', 'Harpo']\n",
    "marxes.count('Harpo')"
   ]
  },
  {
   "source": [
    "#### 4.列表元素的修改"
   ],
   "cell_type": "markdown",
   "metadata": {}
  },
  {
   "source": [
    "$(1)使用\\ join()\\ 转换为字符串$"
   ],
   "cell_type": "markdown",
   "metadata": {}
  },
  {
   "cell_type": "code",
   "execution_count": 40,
   "metadata": {},
   "outputs": [
    {
     "output_type": "execute_result",
     "data": {
      "text/plain": [
       "'Groucho, Chico, Harpo'"
      ]
     },
     "metadata": {},
     "execution_count": 40
    }
   ],
   "source": [
    "marxes = ['Groucho', 'Chico', 'Harpo']\n",
    "', '.join(marxes)  # join() 是 split() 的逆过程"
   ]
  },
  {
   "source": [
    "$(2)使用\\ sort()\\ 重新排列元素$"
   ],
   "cell_type": "markdown",
   "metadata": {}
  },
  {
   "source": [
    "• 列表方法 sort() 会对原列表进行排序，`改变原列表内容`；  \n",
    "• 通用函数 sorted() 则会`返回排好序的列表副本，原列表内容不变`"
   ],
   "cell_type": "markdown",
   "metadata": {}
  },
  {
   "cell_type": "code",
   "execution_count": 41,
   "metadata": {},
   "outputs": [
    {
     "output_type": "execute_result",
     "data": {
      "text/plain": [
       "['Chico', 'Groucho', 'Harpo']"
      ]
     },
     "metadata": {},
     "execution_count": 41
    }
   ],
   "source": [
    "marxes = ['Groucho', 'Chico', 'Harpo']\n",
    "sorted_marxes = sorted(marxes)\n",
    "sorted_marxes"
   ]
  },
  {
   "cell_type": "code",
   "execution_count": 45,
   "metadata": {},
   "outputs": [
    {
     "output_type": "stream",
     "name": "stdout",
     "text": [
      "['Groucho', 'Chico', 'Harpo']\n"
     ]
    },
    {
     "output_type": "execute_result",
     "data": {
      "text/plain": [
       "['Chico', 'Groucho', 'Harpo']"
      ]
     },
     "metadata": {},
     "execution_count": 45
    }
   ],
   "source": [
    "marxes = ['Groucho', 'Chico', 'Harpo']\n",
    "print(marxes)\n",
    "marxes.sort()   # 通过添加参数 reverse=True 可以改变为降序排列：numbers.sort(reverse=True)\n",
    "marxes"
   ]
  },
  {
   "source": [
    "$(3)使用=赋值， 使用\\ copy()\\ 复制$\n",
    "\n",
    "```\n",
    "通过下面任意一种方法，都可以将一个列表的值复制到另一个新的列表中 \n",
    "• 列表 copy() 函数  \n",
    "• list() 转换函数  \n",
    "• 列表分片 \\[:\\]  \n",
    "```"
   ],
   "cell_type": "markdown",
   "metadata": {}
  },
  {
   "source": [
    "a = [1, 2, 3]\n",
    "b = a.copy()\n",
    "c = list(a)\n",
    "d = a[:]\n",
    "a,b,c,d"
   ],
   "cell_type": "code",
   "metadata": {},
   "execution_count": 46,
   "outputs": [
    {
     "output_type": "execute_result",
     "data": {
      "text/plain": [
       "([1, 2, 3], [1, 2, 3], [1, 2, 3], [1, 2, 3])"
      ]
     },
     "metadata": {},
     "execution_count": 46
    }
   ]
  },
  {
   "source": [
    "## 3.3 元组"
   ],
   "cell_type": "markdown",
   "metadata": {}
  },
  {
   "source": [
    "**`元组是不可变的，这意味着一旦元组被定义， 将无法再进行增加、删除或修改元素等操作。`**"
   ],
   "cell_type": "markdown",
   "metadata": {}
  },
  {
   "source": [
    "### 1.创建元组"
   ],
   "cell_type": "markdown",
   "metadata": {}
  },
  {
   "source": [
    "**`定义元组真正靠的是每个元素的后缀逗号——但如果你习惯添加一对括号也无可厚非`**"
   ],
   "cell_type": "markdown",
   "metadata": {}
  },
  {
   "source": [
    "$(1)使用()创建元组$"
   ],
   "cell_type": "markdown",
   "metadata": {}
  },
  {
   "cell_type": "code",
   "execution_count": null,
   "metadata": {},
   "outputs": [],
   "source": [
    "empty_tuple = ()\n",
    "empty_tuple"
   ]
  },
  {
   "source": [
    "$(2)使用~,~号来创建$  \n",
    "**`创建包含一个或多个元素的元组时，每一个元素后面都需要跟着一个逗号，即使只包含一个元素也不能省略`**"
   ],
   "cell_type": "markdown",
   "metadata": {}
  },
  {
   "cell_type": "code",
   "execution_count": 49,
   "metadata": {},
   "outputs": [
    {
     "output_type": "execute_result",
     "data": {
      "text/plain": [
       "(tuple, str)"
      ]
     },
     "metadata": {},
     "execution_count": 49
    }
   ],
   "source": [
    "marx_tuple = 'Groucho', \n",
    "marx_str = 'Groucho'\n",
    "type(marx_tuple), type(marx_str)"
   ]
  },
  {
   "cell_type": "code",
   "execution_count": 50,
   "metadata": {},
   "outputs": [
    {
     "output_type": "execute_result",
     "data": {
      "text/plain": [
       "('Groucho', 'Chico', 'Harpo')"
      ]
     },
     "metadata": {},
     "execution_count": 50
    }
   ],
   "source": [
    "# 如果创建的元组所包含的元素数量超过 1，最后一个元素后面的逗号可以省略：\n",
    "marx_tuple = 'Groucho', 'Chico', 'Harpo'\n",
    "marx_tuple"
   ]
  },
  {
   "source": [
    "$(3)tuple() 函数创建元组$"
   ],
   "cell_type": "markdown",
   "metadata": {}
  },
  {
   "cell_type": "code",
   "execution_count": 54,
   "metadata": {},
   "outputs": [
    {
     "output_type": "execute_result",
     "data": {
      "text/plain": [
       "('Groucho', 'Chico', 'Harpo')"
      ]
     },
     "metadata": {},
     "execution_count": 54
    }
   ],
   "source": [
    "marx_list = ['Groucho', 'Chico', 'Harpo']\n",
    "tuple(marx_list)  # tuple() 函数可以用其他类型的数据来创建元组"
   ]
  },
  {
   "source": [
    "$元组解包$"
   ],
   "cell_type": "markdown",
   "metadata": {}
  },
  {
   "cell_type": "code",
   "execution_count": 53,
   "metadata": {},
   "outputs": [
    {
     "output_type": "execute_result",
     "data": {
      "text/plain": [
       "'Chico'"
      ]
     },
     "metadata": {},
     "execution_count": 53
    }
   ],
   "source": [
    "marx_tuple = ('Groucho', 'Chico', 'Harpo')\n",
    "a,b,c = marx_tuple\n",
    "b"
   ]
  },
  {
   "source": [
    "在许多地方都可以用`元组代替列表，但元组的方法函数与列表相比要少一些`—--—元组没有`append()、 insert()`，等等——因为一旦创建元组便无法修改。既然列表更加灵活，**`那为什么不在所有地方都使用列表呢？`**原因如下所示：\n",
    "\n",
    "• 元组占用的空间较小  \n",
    "• 你不会意外修改元组的值   \n",
    "• 可以将元组用作字典的键（详见 3.4 节）  \n",
    "• 命名元组（详见第 6 章“命名元组”小节）可以作为对象的替代  \n",
    "• 函数的参数是以元组形式传递的（详见 4.7 节）  \n",
    "\n",
    "这一节不会再介绍更多关于元组的细节了。 实际编程中，更多场合用到的是列表和字典，而接下来要介绍的就是字典结构。"
   ],
   "cell_type": "markdown",
   "metadata": {}
  },
  {
   "source": [
    "## 3.4　字典"
   ],
   "cell_type": "markdown",
   "metadata": {}
  },
  {
   "cell_type": "code",
   "execution_count": null,
   "metadata": {},
   "outputs": [],
   "source": [
    "'''\n",
    "1.元素的顺序无关紧要，因为它们不是通过像 0 或 1的偏移量访问的;\n",
    "\n",
    "2.需要通过键来访问元素。 键通常是字符串，但它还可以是 Python 中其他任意的不可变类型：布尔型、整型、浮点型、元组、字符串，以及其他一些后面的内容中会见到的类型;\n",
    "\n",
    "3.在其他语言中，字典可能会被称作 关系型数组、 哈希表 或 哈希图。\n",
    "'''"
   ]
  },
  {
   "source": [
    "### 1.创建字典"
   ],
   "cell_type": "markdown",
   "metadata": {}
  },
  {
   "source": [
    "$(1)使用\\{\\}创建字典$"
   ],
   "cell_type": "markdown",
   "metadata": {}
  },
  {
   "cell_type": "code",
   "execution_count": 55,
   "metadata": {},
   "outputs": [
    {
     "output_type": "execute_result",
     "data": {
      "text/plain": [
       "{}"
      ]
     },
     "metadata": {},
     "execution_count": 55
    }
   ],
   "source": [
    "# 用大括号（{}）将一系列以逗号隔开的键值对（key:value）包裹起来即可进行字典的创建\n",
    "empty_dict = {}\n",
    "empty_dict"
   ]
  },
  {
   "cell_type": "code",
   "execution_count": 61,
   "metadata": {},
   "outputs": [
    {
     "output_type": "stream",
     "name": "stdout",
     "text": [
      "{'name': 'wang', 'school': 'swun', 'sex': 'boy', 'year': 1990}\n"
     ]
    }
   ],
   "source": [
    "from pprint  import pprint\n",
    "mine = {'name':'wang',\n",
    "         'sex':'boy',\n",
    "         'year':1991,\n",
    "        'school':'swun'}\n",
    "pprint(mine)"
   ]
  },
  {
   "source": [
    "$(2)使用\\ dict()\\ 转换为字典$"
   ],
   "cell_type": "markdown",
   "metadata": {}
  },
  {
   "source": [
    "**`可以对任何包含双值子序列的序列使用 dict()`**"
   ],
   "cell_type": "markdown",
   "metadata": {}
  },
  {
   "cell_type": "code",
   "execution_count": 66,
   "metadata": {},
   "outputs": [
    {
     "output_type": "stream",
     "name": "stdout",
     "text": [
      "{'a': 'b', 'c': 'd', 'e': 'f'}\n{'a': 'b', 'c': 'd', 'e': 'f'}\n{'a': 'b', 'c': 'd', 'e': 'f'}\n{'a': 'b', 'c': 'd', 'e': 'f'}\n{'a': 'b', 'c': 'd', 'e': 'f'}\n"
     ]
    }
   ],
   "source": [
    "# 包含双值列表的列表\n",
    "lol = [ ['a', 'b'], ['c', 'd'], ['e', 'f'] ]\n",
    "print( dict(lol) )\n",
    "\n",
    "# 包含双值元组的列表：\n",
    "lot = [ ('a', 'b'), ('c', 'd'), ('e', 'f') ]\n",
    "print( dict(lot) )\n",
    "\n",
    "# 包含双值列表的元组：\n",
    "tol = ( ['a', 'b'], ['c', 'd'], ['e', 'f'] )\n",
    "print( dict(tol) )\n",
    "\n",
    "# 双字符的字符串组成的列表：\n",
    "los = [ 'ab', 'cd', 'ef' ]\n",
    "print( dict(los) )\n",
    "\n",
    "# 双字符的字符串组成的元组\n",
    "tos = ( 'ab', 'cd', 'ef' )\n",
    "print( dict(tos) )"
   ]
  },
  {
   "source": [
    "### 2.字典元素的增加\n"
   ],
   "cell_type": "markdown",
   "metadata": {}
  },
  {
   "source": [
    "$(1)使用\\ [key]\\ 添加或修改元素$"
   ],
   "cell_type": "markdown",
   "metadata": {}
  },
  {
   "cell_type": "code",
   "execution_count": 67,
   "metadata": {},
   "outputs": [],
   "source": [
    "pythons = {\n",
    "'Chapman': 'Graham',\n",
    "'Cleese': 'John',\n",
    "'Idle': 'Eric',\n",
    "'Jones': 'Terry',\n",
    "'Palin': 'Michael',\n",
    "}"
   ]
  },
  {
   "cell_type": "code",
   "execution_count": 68,
   "metadata": {},
   "outputs": [
    {
     "output_type": "execute_result",
     "data": {
      "text/plain": [
       "{'Chapman': 'Graham',\n",
       " 'Cleese': 'John',\n",
       " 'Idle': 'Eric',\n",
       " 'Jones': 'Terry',\n",
       " 'Palin': 'Michael',\n",
       " 'Gilliam': 'Gerry'}"
      ]
     },
     "metadata": {},
     "execution_count": 68
    }
   ],
   "source": [
    "pythons['Gilliam'] = 'Gerry'  # 字典名['键名'] = '键值'\n",
    "pythons"
   ]
  },
  {
   "source": [
    "$(2)使用\\ update()\\ 合并字典$"
   ],
   "cell_type": "markdown",
   "metadata": {}
  },
  {
   "source": [
    "**`如果待添加的字典与待扩充的字典包含同样的键会怎样？是的，新归入字典的值会取代原有的值`**"
   ],
   "cell_type": "markdown",
   "metadata": {}
  },
  {
   "cell_type": "code",
   "execution_count": 70,
   "metadata": {},
   "outputs": [
    {
     "output_type": "execute_result",
     "data": {
      "text/plain": [
       "{'Chapman': 'Graham',\n",
       " 'Cleese': 'John',\n",
       " 'Gilliam': 'Terry',\n",
       " 'Idle': 'Eric',\n",
       " 'Jones': 'Terry',\n",
       " 'Palin': 'Michael',\n",
       " 'Marx': 'Groucho',\n",
       " 'Howard': 'Moe'}"
      ]
     },
     "metadata": {},
     "execution_count": 70
    }
   ],
   "source": [
    "pythons = {\n",
    "'Chapman': 'Graham',\n",
    "'Cleese': 'John',\n",
    "'Gilliam': 'Terry',\n",
    "'Idle': 'Eric',\n",
    "'Jones': 'Terry',\n",
    "'Palin': 'Michael',\n",
    "}\n",
    "\n",
    "others = { 'Marx': 'Groucho', 'Howard': 'Moe' }\n",
    "\n",
    "pythons.update(others)   # 复制的目标字典.update(被复制字典)\n",
    "pythons"
   ]
  },
  {
   "source": [
    "$(3)使用=赋值， 使用\\ copy()\\ 复制:使用 copy() 将字典复制到一个新的字典中$"
   ],
   "cell_type": "markdown",
   "metadata": {}
  },
  {
   "cell_type": "code",
   "execution_count": 84,
   "metadata": {},
   "outputs": [
    {
     "output_type": "execute_result",
     "data": {
      "text/plain": [
       "{'Chapman': 'Graham', 'Cleese': 'John'}"
      ]
     },
     "metadata": {},
     "execution_count": 84
    }
   ],
   "source": [
    "# 与列表一样，对字典内容进行的修改会反映到所有与之相关联的变量名上：\n",
    "pythons = {\n",
    "'Chapman': 'Graham',\n",
    "'Cleese': 'John',\n",
    "}\n",
    "\n",
    "pythons_copy = pythons.copy()\n",
    "pythons_copy"
   ]
  },
  {
   "source": [
    "### 3.字典元素的删除"
   ],
   "cell_type": "markdown",
   "metadata": {}
  },
  {
   "source": [
    "$(1)使用\\ del\\ 删除具有指定*键*的元素$"
   ],
   "cell_type": "markdown",
   "metadata": {}
  },
  {
   "cell_type": "code",
   "execution_count": 71,
   "metadata": {},
   "outputs": [
    {
     "output_type": "execute_result",
     "data": {
      "text/plain": [
       "{'Chapman': 'Graham', 'Gilliam': 'Terry'}"
      ]
     },
     "metadata": {},
     "execution_count": 71
    }
   ],
   "source": [
    "pythons = {\n",
    "'Chapman': 'Graham',\n",
    "'Cleese': 'Marx',\n",
    "'Gilliam': 'Terry'\n",
    "}\n",
    "\n",
    "del pythons['Cleese']  # 不是字典特有的，是python的，所以不能用python.del('Marx')\n",
    "pythons"
   ]
  },
  {
   "source": [
    "$(2)使用\\ clear()\\ 删除所有元素$"
   ],
   "cell_type": "markdown",
   "metadata": {}
  },
  {
   "cell_type": "code",
   "execution_count": 72,
   "metadata": {},
   "outputs": [
    {
     "output_type": "stream",
     "name": "stdout",
     "text": [
      "{'Chapman': 'Graham', 'Cleese': 'Marx', 'Gilliam': 'Terry'}\n"
     ]
    },
    {
     "output_type": "execute_result",
     "data": {
      "text/plain": [
       "{}"
      ]
     },
     "metadata": {},
     "execution_count": 72
    }
   ],
   "source": [
    "# 使用 clear()，或者给字典变量重新赋值一个空字典（{}）可以将字典中所有元素删除：\n",
    "pythons = {\n",
    "'Chapman': 'Graham',\n",
    "'Cleese': 'Marx',\n",
    "'Gilliam': 'Terry'\n",
    "}\n",
    "print(pythons)\n",
    "\n",
    "pythons.clear()  # 清除所有元素\n",
    "pythons"
   ]
  },
  {
   "source": [
    "### 4.字典的元素查找"
   ],
   "cell_type": "markdown",
   "metadata": {}
  },
  {
   "source": [
    "$(1)使用\\ in\\ 判断是否存在$"
   ],
   "cell_type": "markdown",
   "metadata": {}
  },
  {
   "cell_type": "code",
   "execution_count": 73,
   "metadata": {},
   "outputs": [
    {
     "output_type": "execute_result",
     "data": {
      "text/plain": [
       "True"
      ]
     },
     "metadata": {},
     "execution_count": 73
    }
   ],
   "source": [
    "# 如果你希望判断某一个 键 是否存在于一个字典中，可以使用 in\n",
    "pythons = {'Chapman': 'Graham', \n",
    "            'Cleese': 'John',\n",
    "            'Jones': 'Terry',\n",
    "            'Palin': 'Michael'}\n",
    "\n",
    "'Chapman' in pythons  # 注意是查找的键(key)值"
   ]
  },
  {
   "source": [
    "$(2)使用\\ [key]\\ 获取元素$"
   ],
   "cell_type": "markdown",
   "metadata": {}
  },
  {
   "cell_type": "code",
   "execution_count": 74,
   "metadata": {},
   "outputs": [
    {
     "output_type": "execute_result",
     "data": {
      "text/plain": [
       "'John'"
      ]
     },
     "metadata": {},
     "execution_count": 74
    }
   ],
   "source": [
    "pythons = {'Chapman': 'Graham', \n",
    "            'Cleese': 'John',\n",
    "            'Jones': 'Terry',\n",
    "            'Palin': 'Michael'\n",
    "}\n",
    "\n",
    "pythons['Cleese']"
   ]
  },
  {
   "source": [
    "$(3)使用字典函数 get()$\n"
   ],
   "cell_type": "markdown",
   "metadata": {}
  },
  {
   "source": [
    "pythons.get('Cleese')"
   ],
   "cell_type": "code",
   "metadata": {},
   "execution_count": 75,
   "outputs": [
    {
     "output_type": "execute_result",
     "data": {
      "text/plain": [
       "'John'"
      ]
     },
     "metadata": {},
     "execution_count": 75
    }
   ]
  },
  {
   "source": [
    "$(4)使用\\ keys()\\ 获取所有键$"
   ],
   "cell_type": "markdown",
   "metadata": {}
  },
  {
   "cell_type": "code",
   "execution_count": 78,
   "metadata": {},
   "outputs": [
    {
     "output_type": "stream",
     "name": "stdout",
     "text": [
      "dict_keys(['Chapman', 'Cleese', 'Jones', 'Palin']) <class 'dict_keys'>\n"
     ]
    }
   ],
   "source": [
    "pythons = {'Chapman': 'Graham', \n",
    "            'Cleese': 'John',\n",
    "            'Jones': 'Terry',\n",
    "            'Palin': 'Michael'\n",
    "}\n",
    "# 在 Python 2 里， keys() 会返回一个列表，而在 Python 3 中则会返回 dict_keys()，它是键的迭代形式\n",
    "print(pythons.keys(), type(pythons.keys())) "
   ]
  },
  {
   "cell_type": "code",
   "execution_count": 81,
   "metadata": {},
   "outputs": [
    {
     "output_type": "execute_result",
     "data": {
      "text/plain": [
       "'Jones'"
      ]
     },
     "metadata": {},
     "execution_count": 81
    }
   ],
   "source": [
    "list(pythons.keys())[2]  # 这样就可以访问了"
   ]
  },
  {
   "source": [
    "$(5)使用\\ values()\\ 获取所有值$"
   ],
   "cell_type": "markdown",
   "metadata": {}
  },
  {
   "cell_type": "code",
   "execution_count": 82,
   "metadata": {},
   "outputs": [
    {
     "output_type": "execute_result",
     "data": {
      "text/plain": [
       "['Graham', 'John', 'Terry', 'Michael']"
      ]
     },
     "metadata": {},
     "execution_count": 82
    }
   ],
   "source": [
    "pythons = {'Chapman': 'Graham', \n",
    "            'Cleese': 'John',\n",
    "            'Jones': 'Terry',\n",
    "            'Palin': 'Michael'\n",
    "}\n",
    "\n",
    "list( pythons.values() )  # 同keys()一样"
   ]
  },
  {
   "source": [
    "$(6)使用\\ items()\\ 获取所有键值对$"
   ],
   "cell_type": "markdown",
   "metadata": {}
  },
  {
   "cell_type": "code",
   "execution_count": 83,
   "metadata": {},
   "outputs": [
    {
     "output_type": "execute_result",
     "data": {
      "text/plain": [
       "[('Chapman', 'Graham'),\n",
       " ('Cleese', 'John'),\n",
       " ('Jones', 'Terry'),\n",
       " ('Palin', 'Michael')]"
      ]
     },
     "metadata": {},
     "execution_count": 83
    }
   ],
   "source": [
    "# 使用 items() 函数可以获取字典中所有的键值对：\n",
    "pythons = {'Chapman': 'Graham', \n",
    "            'Cleese': 'John',\n",
    "            'Jones': 'Terry',\n",
    "            'Palin': 'Michael'\n",
    "}\n",
    "\n",
    "list( pythons.items() )  # 每一个键值对以元组的形式返回"
   ]
  },
  {
   "cell_type": "code",
   "execution_count": null,
   "metadata": {},
   "outputs": [],
   "source": []
  }
 ]
}