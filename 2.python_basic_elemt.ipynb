{
 "metadata": {
  "language_info": {
   "codemirror_mode": {
    "name": "ipython",
    "version": 3
   },
   "file_extension": ".py",
   "mimetype": "text/x-python",
   "name": "python",
   "nbconvert_exporter": "python",
   "pygments_lexer": "ipython3",
   "version": "3.7.0-final"
  },
  "orig_nbformat": 2,
  "kernelspec": {
   "name": "python3",
   "display_name": "Python 3",
   "language": "python"
  }
 },
 "nbformat": 4,
 "nbformat_minor": 2,
 "cells": [
  {
   "source": [
    "# Python基本元素：数字、字符串和变量"
   ],
   "cell_type": "markdown",
   "metadata": {}
  },
  {
   "source": [
    "如果想知道一个对象（例如一个变量或者一个字面值）的类型: **`type(thing)`**"
   ],
   "cell_type": "markdown",
   "metadata": {}
  },
  {
   "source": [
    "## 1.常常混淆的知识"
   ],
   "cell_type": "markdown",
   "metadata": {}
  },
  {
   "cell_type": "code",
   "execution_count": 4,
   "metadata": {},
   "outputs": [
    {
     "output_type": "execute_result",
     "data": {
      "text/plain": [
       "(str, int, float)"
      ]
     },
     "metadata": {},
     "execution_count": 4
    }
   ],
   "source": [
    "type('wang'),type(34),type(34.678)"
   ]
  },
  {
   "source": [
    "### 数字运算"
   ],
   "cell_type": "markdown",
   "metadata": {}
  },
  {
   "cell_type": "code",
   "execution_count": 6,
   "metadata": {},
   "outputs": [
    {
     "output_type": "stream",
     "name": "stdout",
     "text": [
      "3.5\n3\n9\n"
     ]
    }
   ],
   "source": [
    "# 浮点数除法\n",
    "print(7/2)\n",
    "# 整数除法\n",
    "print(7//2)\n",
    "# 幂次运算 **\n",
    "print(3**2)"
   ]
  },
  {
   "source": [
    "### 类型转换"
   ],
   "cell_type": "markdown",
   "metadata": {}
  },
  {
   "cell_type": "code",
   "execution_count": 8,
   "metadata": {},
   "outputs": [
    {
     "output_type": "execute_result",
     "data": {
      "text/plain": [
       "(99, 1)"
      ]
     },
     "metadata": {},
     "execution_count": 8
    }
   ],
   "source": [
    "int('99'), int(True), float(True), float(98)"
   ]
  },
  {
   "source": [
    "- 在 Python 2 里，一个 int 型包含 32 位，可以存储从 -2 147 483 648 到 2 147 483 647 的整数。\n",
    "一个 long 型会占用更多的空间： 64 位，可以存储从 -9 223 372 036 854 775 808 到 9 223\n",
    "372 036 854 775 807 的整数。\n",
    "- 到了 Python 3， long 类型已不复存在，而 int 类型变为可以存储任意大小的整数，甚至超\n",
    "过 64 位"
   ],
   "cell_type": "markdown",
   "metadata": {}
  },
  {
   "source": [
    "## 2.字符串"
   ],
   "cell_type": "markdown",
   "metadata": {}
  },
  {
   "source": [
    "**`对 Unicode 的支持使得 Python 3 可以包含世界上任何书面语言以及许多特殊符号。`**\n",
    "  \n",
    "处理 Unicode 编码有时会非常困难，因此我将相关内容分散在了本书的不同地方。而本节只会使用 ASCII 编码的例子。"
   ],
   "cell_type": "markdown",
   "metadata": {}
  },
  {
   "source": [
    "### 2.1 字符串的创建"
   ],
   "cell_type": "markdown",
   "metadata": {}
  },
  {
   "cell_type": "code",
   "execution_count": 14,
   "metadata": {},
   "outputs": [
    {
     "output_type": "execute_result",
     "data": {
      "text/plain": [
       "\"I'm Wang Guanjun\""
      ]
     },
     "metadata": {},
     "execution_count": 14
    }
   ],
   "source": [
    "# 使用引号创建\n",
    "\"I'm Wang Guanjun\""
   ]
  },
  {
   "cell_type": "code",
   "execution_count": 18,
   "metadata": {},
   "outputs": [
    {
     "output_type": "execute_result",
     "data": {
      "text/plain": [
       "'I do not like thee, Doctor Fell.\\n    The reason why, I cannot tell.\\n    But this I know, and know full well:\\n    I do not like thee, Doctor Fell.\\n'"
      ]
     },
     "metadata": {},
     "execution_count": 18
    }
   ],
   "source": [
    "# 在三元引号包裹的字符串中，每行的换行符以及行首或行末的空格都会被保留：但得是print或者pprint\n",
    "poem2 = '''I do not like thee, Doctor Fell.\n",
    "    The reason why, I cannot tell.\n",
    "    But this I know, and know full well:\n",
    "    I do not like thee, Doctor Fell.\n",
    "'''\n",
    "poem2"
   ]
  },
  {
   "source": [
    "**`print() 会把包裹字符串的引号截去，仅输出其实际内容，易于阅读。它还会自动地在各\n",
    "个输出部分之间添加空格，并在所有输出的最后添加换行符：`**"
   ],
   "cell_type": "markdown",
   "metadata": {}
  },
  {
   "cell_type": "code",
   "execution_count": 19,
   "metadata": {},
   "outputs": [
    {
     "output_type": "stream",
     "name": "stdout",
     "text": [
      "I do not like thee, Doctor Fell.\n    The reason why, I cannot tell.\n    But this I know, and know full well:\n    I do not like thee, Doctor Fell.\n\n"
     ]
    }
   ],
   "source": [
    "print(poem2)"
   ]
  },
  {
   "source": [
    "### 2.2 其他操作"
   ],
   "cell_type": "markdown",
   "metadata": {}
  },
  {
   "cell_type": "code",
   "execution_count": 20,
   "metadata": {},
   "outputs": [
    {
     "output_type": "execute_result",
     "data": {
      "text/plain": [
       "('98.6', 'True')"
      ]
     },
     "metadata": {},
     "execution_count": 20
    }
   ],
   "source": [
    "# 使用str()进行类型转换\n",
    "str(98.6), str(True)"
   ]
  },
  {
   "cell_type": "code",
   "execution_count": 23,
   "metadata": {},
   "outputs": [
    {
     "output_type": "stream",
     "name": "stdout",
     "text": [
      "A man,\nA plan,\nA canal:\nPanama.\n\tabc\n"
     ]
    }
   ],
   "source": [
    "# 使用\\转义\n",
    "palindrome = 'A man,\\nA plan,\\nA canal:\\nPanama.'\n",
    "print(palindrome)\n",
    "\n",
    "print('\\tabc')"
   ]
  },
  {
   "cell_type": "code",
   "execution_count": 24,
   "metadata": {},
   "outputs": [
    {
     "output_type": "stream",
     "name": "stdout",
     "text": [
      "\"I did nothing!\" he said. \"Not that either! Or the otherthing.\"\n"
     ]
    }
   ],
   "source": [
    "# 可能还会用到 \\' 和 \\\" 来表示单、双引号\n",
    "testimony = \"\\\"I did nothing!\\\" he said. \\\"Not that either! Or the otherthing.\\\"\"\n",
    "print(testimony)"
   ]
  },
  {
   "cell_type": "code",
   "execution_count": 27,
   "metadata": {},
   "outputs": [
    {
     "output_type": "stream",
     "name": "stdout",
     "text": [
      "Release the kraken! At once!\n\ta= 12\n\n"
     ]
    }
   ],
   "source": [
    "# 使用+拼接\n",
    "print('Release the kraken! ' + 'At once!')\n",
    "a = 12\n",
    "print('\\t' + 'a= ' + str(a)+ '\\n')"
   ]
  },
  {
   "cell_type": "code",
   "execution_count": 29,
   "metadata": {},
   "outputs": [
    {
     "output_type": "stream",
     "name": "stdout",
     "text": [
      "Na Na Na Na \n\n"
     ]
    }
   ],
   "source": [
    "# 使用*复制\n",
    "start = 'Na ' * 4 + '\\n'\n",
    "print(start)"
   ]
  },
  {
   "source": [
    "# 使用[]提取字符\n",
    "# 使用[start:end:step]分片"
   ],
   "cell_type": "code",
   "metadata": {},
   "execution_count": null,
   "outputs": []
  },
  {
   "source": [
    "<image src=\"./images/clice_1.png\" width=\"50%\">"
   ],
   "cell_type": "markdown",
   "metadata": {}
  },
  {
   "cell_type": "code",
   "execution_count": 30,
   "metadata": {},
   "outputs": [
    {
     "output_type": "execute_result",
     "data": {
      "text/plain": [
       "10"
      ]
     },
     "metadata": {},
     "execution_count": 30
    }
   ],
   "source": [
    "# 使用len()获得长度\n",
    "myname = 'wanguanjun'\n",
    "len(myname)"
   ]
  },
  {
   "source": [
    "- 与广义函数 len() 不同，有些函数只适用于字符串类型。\n",
    "- 为了调用字符串函数，你需要输入字符串的名称、 一个点号，接着是需要调用的函数名，以及需要传入的参数： **`string.function(arguments)`**"
   ],
   "cell_type": "markdown",
   "metadata": {}
  },
  {
   "cell_type": "code",
   "execution_count": 31,
   "metadata": {},
   "outputs": [
    {
     "output_type": "execute_result",
     "data": {
      "text/plain": [
       "['get gloves', 'get mask', 'give cat vitamins', 'call ambulance']"
      ]
     },
     "metadata": {},
     "execution_count": 31
    }
   ],
   "source": [
    "# 使用内置的字符串函数 split() 可以基于 分隔符 将字符串分割成由若干子串组成的 列表。\n",
    "todos = 'get gloves,get mask,give cat vitamins,call ambulance'\n",
    "todos.split(',') # 按照逗号分隔"
   ]
  },
  {
   "cell_type": "code",
   "execution_count": 32,
   "metadata": {},
   "outputs": [
    {
     "output_type": "execute_result",
     "data": {
      "text/plain": [
       "['get', 'gloves,get', 'mask,give', 'cat', 'vitamins,call', 'ambulance']"
      ]
     },
     "metadata": {},
     "execution_count": 32
    }
   ],
   "source": [
    "todos.split(' ')  # 按照空格分隔"
   ]
  },
  {
   "cell_type": "code",
   "execution_count": 35,
   "metadata": {},
   "outputs": [
    {
     "output_type": "execute_result",
     "data": {
      "text/plain": [
       "'Yeti-Bigfoot-Loch Ness-Monster'"
      ]
     },
     "metadata": {},
     "execution_count": 35
    }
   ],
   "source": [
    "# 使用join()合并: join() 函数与 split() 函数正好相反, 格式eg:  ', '.join(crypto_list)\n",
    "crypto_list = ['Yeti', 'Bigfoot', 'Loch Ness', 'Monster']\n",
    "crypto_string = '-'.join(crypto_list)\n",
    "crypto_string"
   ]
  },
  {
   "source": [
    "### 2.3 其他字符串常用函数"
   ],
   "cell_type": "markdown",
   "metadata": {}
  },
  {
   "cell_type": "code",
   "execution_count": 36,
   "metadata": {},
   "outputs": [],
   "source": [
    "poem = '''All that doth flow we cannot liquid name\n",
    "Or else would fire and water be the same;\n",
    "But that is liquid which is moist and wet\n",
    "Fire that property can never get.\n",
    "Then 'tis not cold that doth the fire put out\n",
    "But 'tis the wet that makes it die, no doubt.'''\n"
   ]
  },
  {
   "cell_type": "code",
   "execution_count": 37,
   "metadata": {},
   "outputs": [
    {
     "output_type": "execute_result",
     "data": {
      "text/plain": [
       "250"
      ]
     },
     "metadata": {},
     "execution_count": 37
    }
   ],
   "source": [
    "# 这首诗有多少个字符呢？（计入空格和换行符。）\n",
    "len(poem)"
   ]
  },
  {
   "cell_type": "code",
   "execution_count": 43,
   "metadata": {},
   "outputs": [
    {
     "output_type": "execute_result",
     "data": {
      "text/plain": [
       "(False, True)"
      ]
     },
     "metadata": {},
     "execution_count": 43
    }
   ],
   "source": [
    "# 这首诗是不是以 All 开头呢？  # 它是否以 That's all, folks!? 结尾？\n",
    "poem.startswith('All this'), poem.endswith('no doubt.')"
   ]
  },
  {
   "cell_type": "code",
   "execution_count": 44,
   "metadata": {},
   "outputs": [
    {
     "output_type": "execute_result",
     "data": {
      "text/plain": [
       "73"
      ]
     },
     "metadata": {},
     "execution_count": 44
    }
   ],
   "source": [
    "# 查一查诗中第一次出现单词 the 的位置（偏移量）：\n",
    "word = 'the'\n",
    "poem.find(word)"
   ]
  },
  {
   "cell_type": "code",
   "execution_count": 45,
   "metadata": {},
   "outputs": [
    {
     "output_type": "execute_result",
     "data": {
      "text/plain": [
       "214"
      ]
     },
     "metadata": {},
     "execution_count": 45
    }
   ],
   "source": [
    "# 以及最后一次出现 the 的偏移量 :\n",
    "poem.rfind(word)"
   ]
  },
  {
   "cell_type": "code",
   "execution_count": 46,
   "metadata": {},
   "outputs": [
    {
     "output_type": "execute_result",
     "data": {
      "text/plain": [
       "3"
      ]
     },
     "metadata": {},
     "execution_count": 46
    }
   ],
   "source": [
    "# the 在这首诗中出现了多少次？\n",
    "poem.count(word)"
   ]
  },
  {
   "cell_type": "code",
   "execution_count": 47,
   "metadata": {},
   "outputs": [
    {
     "output_type": "execute_result",
     "data": {
      "text/plain": [
       "False"
      ]
     },
     "metadata": {},
     "execution_count": 47
    }
   ],
   "source": [
    "# 诗中出现的所有字符都是字母或数字吗？\n",
    "poem.isalnum()   # is  alpa or number"
   ]
  },
  {
   "source": [
    "**`大小写与对齐方式`**"
   ],
   "cell_type": "markdown",
   "metadata": {}
  },
  {
   "cell_type": "code",
   "execution_count": 50,
   "metadata": {},
   "outputs": [
    {
     "output_type": "execute_result",
     "data": {
      "text/plain": [
       "'a duck goes into a bar'"
      ]
     },
     "metadata": {},
     "execution_count": 50
    }
   ],
   "source": [
    "setup = 'a duck goes into a bar...'\n",
    "# 将字符串首尾的 . 都删除掉\n",
    "setup.strip('.')"
   ]
  },
  {
   "cell_type": "code",
   "execution_count": 51,
   "metadata": {},
   "outputs": [
    {
     "output_type": "execute_result",
     "data": {
      "text/plain": [
       "'A duck goes into a bar...'"
      ]
     },
     "metadata": {},
     "execution_count": 51
    }
   ],
   "source": [
    "# 让字符串首字母变成大写\n",
    "setup.capitalize()"
   ]
  },
  {
   "cell_type": "code",
   "execution_count": 52,
   "metadata": {},
   "outputs": [
    {
     "output_type": "execute_result",
     "data": {
      "text/plain": [
       "'A Duck Goes Into A Bar...'"
      ]
     },
     "metadata": {},
     "execution_count": 52
    }
   ],
   "source": [
    "# 让所有单词的开头字母变成大写\n",
    "setup.title()"
   ]
  },
  {
   "cell_type": "code",
   "execution_count": 55,
   "metadata": {},
   "outputs": [
    {
     "output_type": "execute_result",
     "data": {
      "text/plain": [
       "('A DUCK GOES INTO A BAR...', 'a duck goes into a bar...')"
      ]
     },
     "metadata": {},
     "execution_count": 55
    }
   ],
   "source": [
    "# 让所有字母都变成大写,将所有字母转换成小写：\n",
    "setup.upper(), setup.lower()"
   ]
  },
  {
   "cell_type": "code",
   "execution_count": 57,
   "metadata": {},
   "outputs": [
    {
     "output_type": "stream",
     "name": "stdout",
     "text": [
      "a duck goes into a bar...\n"
     ]
    },
    {
     "output_type": "execute_result",
     "data": {
      "text/plain": [
       "'A DUCK GOES INTO A BAR...'"
      ]
     },
     "metadata": {},
     "execution_count": 57
    }
   ],
   "source": [
    "print(setup)\n",
    "# 将所有字母的大小写转换：\n",
    "setup.swapcase()"
   ]
  },
  {
   "source": [
    "**`与格式排版相关的函数`**"
   ],
   "cell_type": "markdown",
   "metadata": {}
  },
  {
   "cell_type": "code",
   "execution_count": 60,
   "metadata": {},
   "outputs": [
    {
     "output_type": "execute_result",
     "data": {
      "text/plain": [
       "'  a duck goes into a bar...   '"
      ]
     },
     "metadata": {},
     "execution_count": 60
    }
   ],
   "source": [
    "# 我们假设例子中的字符串被排版在指定长度（这里是 30 个字符）的空间里\n",
    "setup = 'a duck goes into a bar...'\n",
    "setup.center(30)"
   ]
  },
  {
   "cell_type": "code",
   "execution_count": 61,
   "metadata": {},
   "outputs": [
    {
     "output_type": "execute_result",
     "data": {
      "text/plain": [
       "'a duck goes into a bar...     '"
      ]
     },
     "metadata": {},
     "execution_count": 61
    }
   ],
   "source": [
    "# 左对齐：\n",
    "setup.ljust(30)"
   ]
  },
  {
   "cell_type": "code",
   "execution_count": 64,
   "metadata": {},
   "outputs": [
    {
     "output_type": "execute_result",
     "data": {
      "text/plain": [
       "'     a duck goes into a bar...'"
      ]
     },
     "metadata": {},
     "execution_count": 64
    }
   ],
   "source": [
    "# 右对齐\n",
    "setup.rjust(30)"
   ]
  },
  {
   "cell_type": "code",
   "execution_count": 65,
   "metadata": {},
   "outputs": [
    {
     "output_type": "execute_result",
     "data": {
      "text/plain": [
       "'a marmoset goes into a bar...'"
      ]
     },
     "metadata": {},
     "execution_count": 65
    }
   ],
   "source": [
    "# 使用replace()替换\n",
    "setup.replace('duck', 'marmoset')"
   ]
  },
  {
   "cell_type": "code",
   "execution_count": 66,
   "metadata": {},
   "outputs": [
    {
     "output_type": "execute_result",
     "data": {
      "text/plain": [
       "'a famous duck goes into a famous bar...'"
      ]
     },
     "metadata": {},
     "execution_count": 66
    }
   ],
   "source": [
    "# 修改最多 100 处\n",
    "setup.replace('a ', 'a famous ', 100)"
   ]
  },
  {
   "cell_type": "code",
   "execution_count": null,
   "metadata": {},
   "outputs": [],
   "source": []
  }
 ]
}