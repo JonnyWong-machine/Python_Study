{
 "metadata": {
  "language_info": {
   "codemirror_mode": {
    "name": "ipython",
    "version": 3
   },
   "file_extension": ".py",
   "mimetype": "text/x-python",
   "name": "python",
   "nbconvert_exporter": "python",
   "pygments_lexer": "ipython3",
   "version": "3.7.0-final"
  },
  "orig_nbformat": 2,
  "kernelspec": {
   "name": "python3",
   "display_name": "Python 3",
   "language": "python"
  }
 },
 "nbformat": 4,
 "nbformat_minor": 2,
 "cells": [
  {
   "source": [
    "# **对象和类**"
   ],
   "cell_type": "markdown",
   "metadata": {}
  },
  {
   "source": [
    "**`1.类的定义格式`**：\n",
    "```\n",
    "class Persion():\n",
    "    pass\n",
    "\n",
    "```"
   ],
   "cell_type": "markdown",
   "metadata": {}
  },
  {
   "source": [
    "## 1.类的定义"
   ],
   "cell_type": "markdown",
   "metadata": {}
  },
  {
   "cell_type": "code",
   "execution_count": 1,
   "metadata": {},
   "outputs": [],
   "source": [
    "class Person():\n",
    "    pass"
   ]
  },
  {
   "cell_type": "code",
   "execution_count": 2,
   "metadata": {},
   "outputs": [],
   "source": [
    "# Person() 创建了一个 Person 类的对象，并给它赋值 someone 这个名字\n",
    "someone = Person()  # 类的实例化"
   ]
  },
  {
   "cell_type": "code",
   "execution_count": 3,
   "metadata": {},
   "outputs": [],
   "source": [
    "# 重新定义一下 Person 类\n",
    "class Person():\n",
    "    def __init__(self):\n",
    "        pass\n",
    "# __init__() 是 Python 中一个特殊的函数名，用于根据类的定义创建实例对象。\n",
    "# self 参数指向了这个正在被创建的对象本身。"
   ]
  },
  {
   "cell_type": "code",
   "execution_count": 4,
   "metadata": {},
   "outputs": [],
   "source": [
    "# 当你在类声明里定义 __init__() 方法时，第一个参数必须为 self\n",
    "class Person():\n",
    "    def __init__(self, name):\n",
    "        self.name = name  # 把传递过来的name传递给当前的对象的属性name"
   ]
  },
  {
   "cell_type": "code",
   "execution_count": 7,
   "metadata": {},
   "outputs": [],
   "source": [
    "hunter = Person('Elmer Fudd')   # 创建类Person的对象hunter，并传递属性name=...\n",
    "# 具体过程如下图所示："
   ]
  },
  {
   "source": [
    "<image src=\"./images/class_1.png\" width='70%'>"
   ],
   "cell_type": "markdown",
   "metadata": {}
  },
  {
   "cell_type": "code",
   "execution_count": 8,
   "metadata": {},
   "outputs": [
    {
     "output_type": "stream",
     "name": "stdout",
     "text": [
      "The mighty hunter:  Elmer Fudd\n"
     ]
    }
   ],
   "source": [
    "# 我们刚刚传入的 name 参数此时又在哪儿呢？它作为对象的特性存储在了对象里\n",
    "print('The mighty hunter: ', hunter.name)"
   ]
  },
  {
   "source": [
    "**`注意：在类的定义中， __init__ 并不是必需的。只有当需要区分由该类创建的不同对象时，才需要指定 __init__ 方法，比如不同对象处置不同；`**"
   ],
   "cell_type": "markdown",
   "metadata": {}
  },
  {
   "source": [
    "## 2.继承"
   ],
   "cell_type": "markdown",
   "metadata": {}
  },
  {
   "source": [
    "**将`原始的类`称为`父类、 超类或基类`；将`新的类`称作`孩子类、 子类或衍生类`**。  \n",
    "格式：*** $class$ 子类名（父类名）：***"
   ],
   "cell_type": "markdown",
   "metadata": {}
  },
  {
   "cell_type": "code",
   "execution_count": 11,
   "metadata": {},
   "outputs": [
    {
     "output_type": "stream",
     "name": "stdout",
     "text": [
      "I'm a Car!\nI'm a Car!\n"
     ]
    }
   ],
   "source": [
    "class Car():       # 父类\n",
    "    def exclaim(self):\n",
    "        print(\"I'm a Car!\")\n",
    "        \n",
    "class Yugo(Car):   # 子类\n",
    "    pass\n",
    "\n",
    "give_me_a_car = Car()   # 定义一个父类的对象\n",
    "give_me_a_car.exclaim()  \n",
    "\n",
    "give_me_a_yugo = Yugo()  # 定义一个子类的对象（继承了父类的方法exclaim）\n",
    "give_me_a_yugo.exclaim()"
   ]
  },
  {
   "source": [
    "**`注意：我们并不希望 Yugo 在 exlaim() 方法里宣称它是一个 Car，这可能会造成身份危机（无法区分 Car 和 Yugo）,怎么解决这个问题?`**"
   ],
   "cell_type": "markdown",
   "metadata": {}
  },
  {
   "source": [
    "## 3.覆盖方法"
   ],
   "cell_type": "markdown",
   "metadata": {}
  },
  {
   "source": [
    "接下来将看到子类如何替代——更习惯说**`覆盖（override）`** ——**父类的方法**。`Yugo 和 Car 一定存在着某些区别，不然的话，创建它又有什么意义？`试着改写一下 Yugo 中 exclaim() 方法的功能："
   ],
   "cell_type": "markdown",
   "metadata": {}
  },
  {
   "cell_type": "code",
   "execution_count": 14,
   "metadata": {},
   "outputs": [],
   "source": [
    "class Car():              # 父类\n",
    "    def exclaim(self):\n",
    "        print(\"I'm a Car!\")\n",
    "class Yugo(Car):          # 子类\n",
    "    def exclaim(self):\n",
    "        print(\"I'm a Yugo! Much like a Car, but more Yugo-ish.\")"
   ]
  },
  {
   "cell_type": "code",
   "execution_count": 15,
   "metadata": {},
   "outputs": [
    {
     "output_type": "stream",
     "name": "stdout",
     "text": [
      "I'm a Car!\nI'm a Yugo! Much like a Car, but more Yugo-ish.\n"
     ]
    }
   ],
   "source": [
    "# 分别创建父类和子类的对象\n",
    "give_me_a_car = Car()\n",
    "give_me_a_yugo = Yugo()\n",
    "\n",
    "# 分别调用各自方法\n",
    "give_me_a_car.exclaim()\n",
    "give_me_a_yugo.exclaim()   # 覆盖了父类的 exclaim() 方法"
   ]
  },
  {
   "source": [
    "**`备注：在子类中，可以覆盖任何父类的方法，包括 __init__()。`**"
   ],
   "cell_type": "markdown",
   "metadata": {}
  },
  {
   "cell_type": "code",
   "execution_count": 16,
   "metadata": {},
   "outputs": [],
   "source": [
    "# eg2：下面的例子使用了之前创建过的 Person 类。我们来创建两个子类，分别代表医生（MDPerson）和律师（JDPerson）：\n",
    "class Person():\n",
    "    def __init__(self, name):\n",
    "        self.name = name\n",
    "\n",
    "class MDPerson(Person):\n",
    "    def __init__(self, name):\n",
    "        self.name = \"Doctor \" + name\n",
    "        \n",
    "class JDPerson(Person):\n",
    "    def __init__(self, name):\n",
    "        self.name = name + \", Esquire\""
   ]
  },
  {
   "cell_type": "code",
   "execution_count": 18,
   "metadata": {},
   "outputs": [
    {
     "output_type": "stream",
     "name": "stdout",
     "text": [
      "Fudd\nDoctor Fudd\nFudd, Esquire\n"
     ]
    }
   ],
   "source": [
    "# 子类的初始化方法 __init__() 接收的参数和父类 Person 一样，但存储到对象内部 name 特性的值却不尽相同：\n",
    "person = Person('Fudd')\n",
    "doctor = MDPerson('Fudd')\n",
    "lawyer = JDPerson('Fudd')\n",
    "\n",
    "print(person.name)\n",
    "print(doctor.name)\n",
    "print(lawyer.name)"
   ]
  },
  {
   "source": [
    "## 4.添加新方法"
   ],
   "cell_type": "markdown",
   "metadata": {}
  },
  {
   "source": [
    "`子类还可以添加父类中没有的方法`。 回到 Car 类和 Yugo 类，我们给 Yugo 类`添加一个新的方法 need_a_push()`："
   ],
   "cell_type": "markdown",
   "metadata": {}
  },
  {
   "cell_type": "code",
   "execution_count": 20,
   "metadata": {},
   "outputs": [],
   "source": [
    "class Car():          # 父类\n",
    "    def exclaim(self):\n",
    "        print(\"I'm a Car!\")\n",
    "\n",
    "class Yugo(Car):      # 子类\n",
    "    def exclaim(self):\n",
    "        print(\"I'm a Yugo! Much like a Car, but more Yugo-ish.\")\n",
    "    def need_a_push(self):\n",
    "        print(\"A little help here?\")"
   ]
  },
  {
   "cell_type": "code",
   "execution_count": 4,
   "metadata": {},
   "outputs": [
    {
     "output_type": "error",
     "ename": "NameError",
     "evalue": "name 'Car' is not defined",
     "traceback": [
      "\u001b[1;31m---------------------------------------------------------------------------\u001b[0m",
      "\u001b[1;31mNameError\u001b[0m                                 Traceback (most recent call last)",
      "\u001b[1;32m<ipython-input-4-4e1b85ff3052>\u001b[0m in \u001b[0;36m<module>\u001b[1;34m()\u001b[0m\n\u001b[0;32m      1\u001b[0m \u001b[1;31m# 创建一个 Car 和一个 Yugo 对象\u001b[0m\u001b[1;33m\u001b[0m\u001b[1;33m\u001b[0m\u001b[0m\n\u001b[1;32m----> 2\u001b[1;33m \u001b[0mgive_me_a_car\u001b[0m \u001b[1;33m=\u001b[0m \u001b[0mCar\u001b[0m\u001b[1;33m(\u001b[0m\u001b[1;33m)\u001b[0m\u001b[1;33m\u001b[0m\u001b[0m\n\u001b[0m\u001b[0;32m      3\u001b[0m \u001b[0mgive_me_a_yugo\u001b[0m \u001b[1;33m=\u001b[0m \u001b[0mYugo\u001b[0m\u001b[1;33m(\u001b[0m\u001b[1;33m)\u001b[0m\u001b[1;33m\u001b[0m\u001b[0m\n\u001b[0;32m      4\u001b[0m \u001b[1;33m\u001b[0m\u001b[0m\n\u001b[0;32m      5\u001b[0m \u001b[1;31m# Yugo 类的对象可以响应 need_a_push() 方法：\u001b[0m\u001b[1;33m\u001b[0m\u001b[1;33m\u001b[0m\u001b[0m\n",
      "\u001b[1;31mNameError\u001b[0m: name 'Car' is not defined"
     ]
    }
   ],
   "source": [
    "# 创建一个 Car 和一个 Yugo 对象\n",
    "give_me_a_car = Car()\n",
    "give_me_a_yugo = Yugo()\n",
    "\n",
    "# Yugo 类的对象可以响应 need_a_push() 方法：\n",
    "give_me_a_yugo.need_a_push()\n",
    "# 但比它广义的 Car 无法响应该方法：\n",
    "give_me_a_car.need_a_push() # ---报错:父类没有办法去调用子类的方法"
   ]
  },
  {
   "source": [
    "## 5.使用super从父类得到帮助"
   ],
   "cell_type": "markdown",
   "metadata": {}
  },
  {
   "source": [
    "**`已经知道如何在子类中覆盖父类的方法，但如果想要调用父类的方法怎么办？`**  $super()$"
   ],
   "cell_type": "markdown",
   "metadata": {}
  },
  {
   "source": [
    "class Person():\n",
    "    def __init__(self, name):\n",
    "        self.name = name\n",
    "\n",
    "# 注意，子类的初始化方法 __init__() 中添加了一个额外的 email参数：\n",
    "class EmailPerson(Person):\n",
    "    def __init__(self, name, email):  # 在子类中定义 __init__() 方法时，父类的 __init__() 方法会被覆盖，\n",
    "        super().__init__(name)        # 则父类的初始化方法并不会被自动调用， 我们必须显式调用它：super().__init__(name)\n",
    "        self.email = email"
   ],
   "cell_type": "code",
   "metadata": {},
   "execution_count": 6,
   "outputs": []
  },
  {
   "source": [
    "在子类中，父类的初始化方法并不会被自动调用， 我们必须显式调用它,以上代码实际上做了这样几件事情:\n",
    "- 通过 `super() 方法`获取了父类 Person 的定义;\n",
    "- 子类的 `__init__() `调用了 `Person.__init__()方法`。它会`自动将 self 参数传递给父类`。因此，你只需传入其余参数即可。在上面的例子中， Person() 能接受的其余参数指的是name。\n",
    "- self.email = email 这行新的代码才真正起到了将 EmailPerson 与 Person 区分开的作用"
   ],
   "cell_type": "markdown",
   "metadata": {}
  },
  {
   "cell_type": "code",
   "execution_count": 17,
   "metadata": {},
   "outputs": [
    {
     "output_type": "execute_result",
     "data": {
      "text/plain": [
       "'Bob Frapples'"
      ]
     },
     "metadata": {},
     "execution_count": 17
    }
   ],
   "source": [
    "# 创建一个 EmailPerson 类的对象\n",
    "bob = EmailPerson(name='Bob Frapples', email='bob@frapples.com')\n",
    "# bob = EmailPerson(email='bob@frapples.com', name='Bob Frapples')\n",
    "# bob = EmailPerson('Bob Frapples', 'bob@frapples.com')\n",
    "# bob = EmailPerson('Bob Frapples', email='bob@frapples.com')\n",
    "\n",
    "bob.name"
   ]
  },
  {
   "cell_type": "code",
   "execution_count": 16,
   "metadata": {},
   "outputs": [
    {
     "output_type": "execute_result",
     "data": {
      "text/plain": [
       "'bob@frapples.com'"
      ]
     },
     "metadata": {},
     "execution_count": 16
    }
   ],
   "source": [
    "bob.email"
   ]
  },
  {
   "source": [
    "**`为什么不像下面这样定义 EmailPerson 类呢？`**  \n",
    "```\n",
    "class EmailPerson(Person):\n",
    "    def __init__(self, name, email):\n",
    "        self.name = name\n",
    "        self.email = email\n",
    "```\n",
    "```\n",
    "确实可以这么做，但这有悖我们使用继承的初衷:\n",
    "（1）应该使用 super() 来让 Person 完成它应该做的事情， 就像任何一个单纯的 Person 对象一样；\n",
    "（2）如果 Person 类的定义在未来发生改变，使用 super() 可以保证这些改变会*_自动_*反映到 EmailPerson 类上，而不需要手动修改；\n",
    "\n",
    "```"
   ],
   "cell_type": "markdown",
   "metadata": {}
  },
  {
   "source": [
    "## 6 self的自辩"
   ],
   "cell_type": "markdown",
   "metadata": {}
  },
  {
   "cell_type": "code",
   "execution_count": 19,
   "metadata": {},
   "outputs": [
    {
     "output_type": "stream",
     "name": "stdout",
     "text": [
      "I'm a Car!\n"
     ]
    }
   ],
   "source": [
    "#  Python 使用 self 参数来找到正确的对象所包含的特性和方法。 通过下面的例子，我会告诉你调用对象方法背后 Python 实际做的工作。还记得前面例子中的 Car 类吗？再次调用 exclaim() 方法：\n",
    "\n",
    "class Car():     # 父类\n",
    "    def exclaim(self):\n",
    "        print(\"I'm a Car!\")\n",
    "class Yugo(Car):   #子类\n",
    "    pass\n",
    "\n",
    "car = Car()  # 创建父类的一个对象\n",
    "car.exclaim()"
   ]
  },
  {
   "source": [
    "```\n",
    "Python 在背后做了以下两件事情：\n",
    "- 查找 car 对象所属的类（Car）；\n",
    "- 把 car 对象作为 self 参数传给 Car 类所包含的 exclaim() 方法。\n",
    "```"
   ],
   "cell_type": "markdown",
   "metadata": {}
  },
  {
   "source": [
    "# 了解调用机制后， 为了好玩，我们甚至可以像下面这样进行调用，这与普通的调用语法（car.exclaim()）效果完全一致：\n",
    "Car.exclaim(car)"
   ],
   "cell_type": "code",
   "metadata": {},
   "execution_count": 20,
   "outputs": [
    {
     "output_type": "stream",
     "name": "stdout",
     "text": [
      "I'm a Car!\n"
     ]
    }
   ]
  },
  {
   "source": [
    "## 7.使用属性对特性进行访问和设置"
   ],
   "cell_type": "markdown",
   "metadata": {}
  },
  {
   "source": [
    "- 有一些面向对象的语言支持**`私有特性`**。`这些特性无法从对象外部直接访问`，我们需要编写`getter` 和 `setter 方法`对这些私有特性进行读写操作。  \n",
    "- `Python 不需要 getter 和 setter 方法`，因为 Python 里所有特性都是公开的，使用时全凭自觉。\n",
    "- `如果你不放心直接访问对象的特性， 可以为对象编写 setter 和 getter 方法`。`但更具 Python风格的解决方案是使用属性（property）` "
   ],
   "cell_type": "markdown",
   "metadata": {}
  },
  {
   "source": [
    "面的例子中， 首先定义一个 Duck 类，它仅包含一个 hidden_name 特性。（下一节会告诉\n",
    "你命名私有特性的一种更好的方式。）我们不希望别人能够直接访问这个特性，因此需要\n",
    "定义两个方法： getter 方法（get_name()）和 setter 方法（set_name()）。我们在每个方法中\n",
    "都添加一个 print() 函数，这样就能方便地知道它们何时被调用。最后，把这些方法设置\n",
    "为 name 属性："
   ],
   "cell_type": "markdown",
   "metadata": {}
  },
  {
   "cell_type": "code",
   "execution_count": 8,
   "metadata": {},
   "outputs": [],
   "source": [
    "class Duck():\n",
    "    def __init__(self, input_name):\n",
    "        self.hidden_name = input_name\n",
    "\n",
    "    def get_name(self):\n",
    "        print('inside the getter')\n",
    "        return self.hidden_name\n",
    "\n",
    "    def set_name(self, input_name):\n",
    "        print('inside the setter')\n",
    "        self.hidden_name = input_name\n",
    "        \n",
    "    name = property(get_name, set_name)\n",
    "# 这两个新方法在最后一行之前都与普通的 getter 和 setter 方法没有任何区别，而最后一行则把这两个方法定义为了 name 属性"
   ]
  },
  {
   "cell_type": "code",
   "execution_count": 9,
   "metadata": {},
   "outputs": [
    {
     "output_type": "stream",
     "name": "stdout",
     "text": [
      "inside the getter\n"
     ]
    },
    {
     "output_type": "execute_result",
     "data": {
      "text/plain": [
       "'Howard'"
      ]
     },
     "metadata": {},
     "execution_count": 9
    }
   ],
   "source": [
    "# property() 的第一个参数是 getter 方法，第二个参数是 setter 方法。现在，当你尝试访问 Duck 类对象的 name 特性时， get_name() 会被自动调用.\n",
    "fowl = Duck('Howard')\n",
    "fowl.name"
   ]
  },
  {
   "cell_type": "code",
   "execution_count": 10,
   "metadata": {},
   "outputs": [
    {
     "output_type": "stream",
     "name": "stdout",
     "text": [
      "inside the getter\n"
     ]
    },
    {
     "output_type": "execute_result",
     "data": {
      "text/plain": [
       "'Howard'"
      ]
     },
     "metadata": {},
     "execution_count": 10
    }
   ],
   "source": [
    "# 也可以显式调用 get_name() 方法，它就像普通的 getter 方法一样：\n",
    "fowl.get_name()"
   ]
  },
  {
   "cell_type": "code",
   "execution_count": 11,
   "metadata": {},
   "outputs": [
    {
     "output_type": "stream",
     "name": "stdout",
     "text": [
      "inside the setter\n"
     ]
    }
   ],
   "source": [
    "# 当对 name 特性执行赋值操作时， set_name() 方法会被调用：\n",
    "fowl.name = 'Daffy'"
   ]
  },
  {
   "cell_type": "code",
   "execution_count": 12,
   "metadata": {},
   "outputs": [
    {
     "output_type": "stream",
     "name": "stdout",
     "text": [
      "inside the setter\n"
     ]
    }
   ],
   "source": [
    "# 也可以显式调用 set_name() 方法：\n",
    "fowl.set_name('Daffy')"
   ]
  },
  {
   "source": [
    "**`另一种定义属性的方式是使用修饰符（decorator）。`**  \n",
    "`下一个例子会定义两个不同的方法，它们都叫 name()，但包含不同的修饰符：`\n",
    "- @property，用于指示 getter 方法；\n",
    "- @name.setter，用于指示 setter 方法"
   ],
   "cell_type": "markdown",
   "metadata": {}
  },
  {
   "source": [],
   "cell_type": "markdown",
   "metadata": {}
  },
  {
   "cell_type": "code",
   "execution_count": null,
   "metadata": {},
   "outputs": [],
   "source": [
    "class Duck():\n",
    "    def __init__(self, input_name):\n",
    "        self.hidden_name = input_name\n",
    "    @property\n",
    "    def name(self):\n",
    "        print('inside the getter')\n",
    "        return self.hidden_name\n",
    "    @name.setter\n",
    "    def name(self, input_name):\n",
    "        print('inside the setter')\n",
    "        self.hidden_name = input_name\n",
    "# 你仍然可以像之前访问特性一样访问 name，但这里没有了显式的 get_name() 和 set_name()方法："
   ]
  },
  {
   "cell_type": "code",
   "execution_count": 13,
   "metadata": {},
   "outputs": [
    {
     "output_type": "stream",
     "name": "stdout",
     "text": [
      "inside the getter\n"
     ]
    },
    {
     "output_type": "execute_result",
     "data": {
      "text/plain": [
       "'Howard'"
      ]
     },
     "metadata": {},
     "execution_count": 13
    }
   ],
   "source": [
    " fowl = Duck('Howard')\n",
    " fowl.name"
   ]
  },
  {
   "cell_type": "code",
   "execution_count": 14,
   "metadata": {},
   "outputs": [
    {
     "output_type": "stream",
     "name": "stdout",
     "text": [
      "inside the setter\n"
     ]
    }
   ],
   "source": [
    "fowl.name = 'Donald'"
   ]
  },
  {
   "source": [
    "**`注意：`** **实际上，如果有人能猜到我们在类的内部用的特性名是 hidden_name，他仍然可以直接通过 fowl.hidden_name 进行读写操作**"
   ],
   "cell_type": "markdown",
   "metadata": {}
  },
  {
   "source": [
    "在前面几个例子中，我们都使用 name 属性指向类中存储的某一特性（在我们的例子中是hidden_name）。除此之外，**`属性还可以指向一个计算结果值`**。我们来定义一个 Circle 类，它包含 radius 特性以及`一个计算属性 diameter`："
   ],
   "cell_type": "markdown",
   "metadata": {}
  },
  {
   "cell_type": "code",
   "execution_count": 15,
   "metadata": {},
   "outputs": [],
   "source": [
    "class Circle():\n",
    "    def __init__(self, radius):\n",
    "        self.radius = radius\n",
    "    @property\n",
    "    def diameter(self):\n",
    "        return 2 * self.radius"
   ]
  },
  {
   "cell_type": "code",
   "execution_count": 16,
   "metadata": {},
   "outputs": [
    {
     "output_type": "execute_result",
     "data": {
      "text/plain": [
       "5"
      ]
     },
     "metadata": {},
     "execution_count": 16
    }
   ],
   "source": [
    "# 创建一个 Circle 对象，并给 radius 赋予一个初值：\n",
    "c = Circle(5)\n",
    "c.radius"
   ]
  },
  {
   "source": [
    "**`可以像访问特性（例如 radius）一样访问属性 diameter：`**"
   ],
   "cell_type": "markdown",
   "metadata": {}
  },
  {
   "cell_type": "code",
   "execution_count": 17,
   "metadata": {},
   "outputs": [
    {
     "output_type": "execute_result",
     "data": {
      "text/plain": [
       "14"
      ]
     },
     "metadata": {},
     "execution_count": 17
    }
   ],
   "source": [
    "c.radius = 7\n",
    "c.diameter"
   ]
  },
  {
   "cell_type": "code",
   "execution_count": 18,
   "metadata": {},
   "outputs": [
    {
     "output_type": "error",
     "ename": "IndentationError",
     "evalue": "unexpected indent (<ipython-input-18-277c3a7f4b6a>, line 2)",
     "traceback": [
      "\u001b[1;36m  File \u001b[1;32m\"<ipython-input-18-277c3a7f4b6a>\"\u001b[1;36m, line \u001b[1;32m2\u001b[0m\n\u001b[1;33m    c.diameter = 20\u001b[0m\n\u001b[1;37m    ^\u001b[0m\n\u001b[1;31mIndentationError\u001b[0m\u001b[1;31m:\u001b[0m unexpected indent\n"
     ]
    }
   ],
   "source": [
    "# 如果你没有指定某一特性的 setter 属性（@diameter.setter），那么将无法从类的外部对它的值进行设置。这对于那些只读的特性非常有用：\n",
    " c.diameter = 20"
   ]
  },
  {
   "source": [
    "注：与直接访问特性相比，使用 property 还有一个巨大的优势：如果你改变了某个特性的定义，只需要在类定义里修改相关代码即可，不需要在每一处调用修改。"
   ],
   "cell_type": "markdown",
   "metadata": {}
  },
  {
   "source": [
    "## 8.使用名称重整保护私有特性"
   ],
   "cell_type": "markdown",
   "metadata": {}
  },
  {
   "source": [
    "前面的 Duck 例子中，为了隐藏内部特性，我们曾将其命名为 hidden_name。其实，**` Python\n",
    "对那些需要刻意隐藏在类内部的特性有自己的命名规范：`**\n",
    "> **`由连续的两个下划线开头（__）`**。"
   ],
   "cell_type": "markdown",
   "metadata": {}
  },
  {
   "cell_type": "code",
   "execution_count": 21,
   "metadata": {},
   "outputs": [],
   "source": [
    "# 我们来把 hidden_name 改名为 __name\n",
    "class Duck():\n",
    "    def __init__(self, input_name):\n",
    "        self.__name = input_name\n",
    "    @property\n",
    "    def name(self):\n",
    "        print('inside the getter')\n",
    "        return self.__name\n",
    "    @name.setter\n",
    "    def name(self, input_name):\n",
    "        print('inside the setter')\n",
    "        self.__name = input_name"
   ]
  },
  {
   "cell_type": "code",
   "execution_count": 25,
   "metadata": {},
   "outputs": [
    {
     "output_type": "stream",
     "name": "stdout",
     "text": [
      "inside the getter\n"
     ]
    },
    {
     "output_type": "execute_result",
     "data": {
      "text/plain": [
       "'Howard'"
      ]
     },
     "metadata": {},
     "execution_count": 25
    }
   ],
   "source": [
    "fowl = Duck('Howard')\n",
    "fowl.name"
   ]
  },
  {
   "cell_type": "code",
   "execution_count": 26,
   "metadata": {},
   "outputs": [
    {
     "output_type": "stream",
     "name": "stdout",
     "text": [
      "inside the setter\ninside the getter\n"
     ]
    },
    {
     "output_type": "execute_result",
     "data": {
      "text/plain": [
       "'Donald'"
      ]
     },
     "metadata": {},
     "execution_count": 26
    }
   ],
   "source": [
    "fowl.name = 'Donald'\n",
    "fowl.name"
   ]
  },
  {
   "cell_type": "code",
   "execution_count": 27,
   "metadata": {},
   "outputs": [
    {
     "output_type": "error",
     "ename": "AttributeError",
     "evalue": "'Duck' object has no attribute '__name'",
     "traceback": [
      "\u001b[1;31m---------------------------------------------------------------------------\u001b[0m",
      "\u001b[1;31mAttributeError\u001b[0m                            Traceback (most recent call last)",
      "\u001b[1;32m<ipython-input-27-5fc3a97feb15>\u001b[0m in \u001b[0;36m<module>\u001b[1;34m()\u001b[0m\n\u001b[0;32m      1\u001b[0m \u001b[1;31m# 现在，你无法在外部访问 __name 特性了：\u001b[0m\u001b[1;33m\u001b[0m\u001b[1;33m\u001b[0m\u001b[0m\n\u001b[1;32m----> 2\u001b[1;33m \u001b[0mfowl\u001b[0m\u001b[1;33m.\u001b[0m\u001b[0m__name\u001b[0m\u001b[1;33m\u001b[0m\u001b[0m\n\u001b[0m",
      "\u001b[1;31mAttributeError\u001b[0m: 'Duck' object has no attribute '__name'"
     ]
    }
   ],
   "source": [
    "# 现在，你无法在外部访问 __name 特性了：\n",
    "fowl.__name"
   ]
  },
  {
   "source": [
    "**这种命名规范本质上并没有把特性变成私有，但 Python 确实将它的名字重整了，让外部\n",
    "的代码无法使用**,实现原理如下："
   ],
   "cell_type": "markdown",
   "metadata": {}
  },
  {
   "cell_type": "code",
   "execution_count": 28,
   "metadata": {},
   "outputs": [
    {
     "output_type": "execute_result",
     "data": {
      "text/plain": [
       "'Donald'"
      ]
     },
     "metadata": {},
     "execution_count": 28
    }
   ],
   "source": [
    "fowl._Duck__name\n"
   ]
  },
  {
   "source": [
    "发现了吗？我们并没有得到 inside the getter，成功绕过了 getter 方法。尽管如我们所\n",
    "见，这种保护特性的方式并不完美， 但它确实能在一定程度上避免我们无意或有意地对特\n",
    "性进行直接访问。"
   ],
   "cell_type": "markdown",
   "metadata": {}
  },
  {
   "source": [
    "## 9.方法的类型"
   ],
   "cell_type": "markdown",
   "metadata": {}
  },
  {
   "source": [
    "- **有些`数据（特性）`和`函数（方法）`是类本身的一部分，还有一些是由类创建的实例的一部分**。在类的定义中， **以 $self$ 作为第一个参数的方法都是`实例方法（instance method）`**。它们在创建自定义类时最常用。 实例方法的首个参数是 self，当它被调用时， Python 会把调用该方法的对象作为 self 参数传入。  \n",
    "与之相对， **`类方法（class method）`**会`作用于整个类`，`对类作出的任何改变会对它的所有实例对象产生影响`。 在类定义内部，用前缀修饰符 $@classmethod $指定的方法都是`类方法`。 \n",
    "与实例方法类似，`类方法`的`第一个参数是类本身`。在 Python 中，这个参数常被写作` cls`，因为全称 class 是保留字，在这里我们无法使用。下面的例子中，我们为类 A 定义一个类方法来记录一共有多少个类 A 的对象被创建："
   ],
   "cell_type": "markdown",
   "metadata": {}
  },
  {
   "cell_type": "code",
   "execution_count": 29,
   "metadata": {},
   "outputs": [],
   "source": [
    "class A():\n",
    "    count = 0\n",
    "    def __init__(self):\n",
    "        A.count += 1      # 是类特性，而不是 self.count（可能是对象的特性）\n",
    "    def exclaim(self):    # 凡是是self的方法都是实例化的方法\n",
    "        print(\"I'm an A!\")\n",
    "    @classmethod\n",
    "    def kids(cls):   # 类方法的第一个参数是cls\n",
    "        print(\"A has\", cls.count, \"little objects.\")"
   ]
  },
  {
   "cell_type": "code",
   "execution_count": 30,
   "metadata": {},
   "outputs": [
    {
     "output_type": "stream",
     "name": "stdout",
     "text": [
      "A has 3 little objects.\n"
     ]
    }
   ],
   "source": [
    "easy_a = A()    # 创建一个名为easy_a名的对象\n",
    "breezy_a = A()  # 创建一个名为breezy_a名的对象\n",
    "wheezy_a = A()  # 创建一个名为wheezy_a名的对象\n",
    "A.kids()        # 调用类方法"
   ]
  },
  {
   "source": [
    "注意，上面的代码中，我们使用的是 `A.count（类特性）`，而不是 `self.count`（可能是对象\n",
    "的特性）。在 `kids() 方法`中，我们使用的是 `cls.count`，它与 `A.count` 的作用一样。"
   ],
   "cell_type": "markdown",
   "metadata": {}
  },
  {
   "source": [
    "**类定义中的方法还存在着第三种类型， 它既不会影响类也不会影响类的对象。**  \n",
    "它们出现在类的定义中仅仅是为了方便， 否则它们只能孤零零地出现在代码的其他地方，这会影响代码的逻辑性。 这种类型的方法被称作`静态方法（static method）`，用 `@staticmethod `修饰，它`既不需要 self 参数也不需要 class 参数`。下面例子中的静态方法是一则 CoyoteWeapon的广告："
   ],
   "cell_type": "markdown",
   "metadata": {}
  },
  {
   "cell_type": "code",
   "execution_count": 32,
   "metadata": {},
   "outputs": [],
   "source": [
    "class CoyoteWeapon():\n",
    "    @staticmethod\n",
    "    def commercial():\n",
    "        print('This CoyoteWeapon has been brought to you by Acme')"
   ]
  },
  {
   "cell_type": "code",
   "execution_count": 34,
   "metadata": {},
   "outputs": [
    {
     "output_type": "stream",
     "name": "stdout",
     "text": [
      "This CoyoteWeapon has been brought to you by Acme\n"
     ]
    }
   ],
   "source": [
    "CoyoteWeapon.commercial()\n",
    "\n",
    "#注意，在这个例子中，我们甚至都不用创建任何 CoyoteWeapon 类的对象就可以调用这个方法，句法优雅不失风格！"
   ]
  },
  {
   "source": [
    "## 10.鸭子类型"
   ],
   "cell_type": "markdown",
   "metadata": {}
  },
  {
   "source": [
    "Python 对实现**`多态（polymorphism）`** 要求得十分宽松，这意味着我们可以`对不同对象调用同名的操作`，甚至不用管这些对象的类型是什么.  \n",
    "\n",
    "我们来为三个 Quote 类设定同样的初始化方法 __init__()，然后再添加两个新函数：\n",
    "- `who()` 返回保存的 `person` 字符串的值；\n",
    "- `says()` 返回保存的 `words` 字符串的内容，并添上指定的标点符号。"
   ],
   "cell_type": "markdown",
   "metadata": {}
  },
  {
   "cell_type": "code",
   "execution_count": 41,
   "metadata": {},
   "outputs": [],
   "source": [
    "class Quote():    # 父类\n",
    "    def __init__(self, person, words):\n",
    "        self.person = person\n",
    "        self.words = words\n",
    "\n",
    "    def who(self):\n",
    "        return self.person\n",
    "        \n",
    "    def says(self):\n",
    "        return self.words + '.'\n",
    "\n",
    "# 我们不需要改变 QuestionQuote 或者 ExclamationQuote 的初始化方式，因此没有覆盖它们的 __init__() 方法。\n",
    "# Python 会自动调用父类 Quote 的初始化函数 __init__() 来存储实例变量 person 和 words，这就是我们可以在子类 QuestionQuote 和 ExclamationQuote 的对象里访问 self.words 的原因。\n",
    "class QuestionQuote(Quote):     # 子类1\n",
    "    def says(self):\n",
    "        return self.words + '?'\n",
    "\n",
    "class ExclamationQuote(Quote):  # 子类2\n",
    "    def says(self):\n",
    "        return self.words + '!'"
   ]
  },
  {
   "cell_type": "code",
   "execution_count": 42,
   "metadata": {},
   "outputs": [
    {
     "output_type": "stream",
     "name": "stdout",
     "text": [
      "Elmer Fudd says: I'm hunting wabbits.\n"
     ]
    }
   ],
   "source": [
    "# 接下来创建一些对象：\n",
    "hunter = Quote('Elmer Fudd', \"I'm hunting wabbits\")\n",
    "print(hunter.who(), 'says:', hunter.says())"
   ]
  },
  {
   "cell_type": "code",
   "execution_count": 43,
   "metadata": {},
   "outputs": [
    {
     "output_type": "stream",
     "name": "stdout",
     "text": [
      "Bugs Bunny says: What's up, doc?\n"
     ]
    }
   ],
   "source": [
    "hunted1 = QuestionQuote('Bugs Bunny', \"What's up, doc\")\n",
    "print(hunted1.who(), 'says:', hunted1.says())"
   ]
  },
  {
   "cell_type": "code",
   "execution_count": 44,
   "metadata": {},
   "outputs": [
    {
     "output_type": "stream",
     "name": "stdout",
     "text": [
      "Daffy Duck says: It's rabbit season!\n"
     ]
    }
   ],
   "source": [
    "hunted2 = ExclamationQuote('Daffy Duck', \"It's rabbit season\")\n",
    "print(hunted2.who(), 'says:', hunted2.says())"
   ]
  },
  {
   "cell_type": "code",
   "execution_count": null,
   "metadata": {},
   "outputs": [],
   "source": [
    "# 三个不同版本的 says() 为上面三种类提供了不同的响应方式，这是面向对象的语言中多态的传统形式。 "
   ]
  },
  {
   "source": [
    "Python 在这方面走得更远一些，`无论对象的种类是什么，只要包含 who() 和\n",
    "says()，你便可以调用它`。我们再来定义一个 BabblingBrook 类，它与我们之前的猎人猎物（Quote 类的后代）什么的没有任何关系："
   ],
   "cell_type": "markdown",
   "metadata": {}
  },
  {
   "cell_type": "code",
   "execution_count": 45,
   "metadata": {},
   "outputs": [],
   "source": [
    "class Quote():    # 父类\n",
    "    def __init__(self, person, words):\n",
    "        self.person = person\n",
    "        self.words = words\n",
    "    def who(self):\n",
    "        return self.person\n",
    "    def says(self):\n",
    "        return self.words + '.'\n",
    "\n",
    "class QuestionQuote(Quote):     # 子类1\n",
    "    def says(self):\n",
    "        return self.words + '?'\n",
    "\n",
    "class ExclamationQuote(Quote):  # 子类2\n",
    "    def says(self):\n",
    "        return self.words + '!'\n",
    "\n",
    "class BabblingBrook():\n",
    "    def who(self):\n",
    "        return 'Brook'\n",
    "    def says(self):\n",
    "        return 'Babble'"
   ]
  },
  {
   "cell_type": "code",
   "execution_count": 52,
   "metadata": {},
   "outputs": [],
   "source": [
    "# 定义不同类的对象\n",
    "hunter = Quote('Elmer Fudd', \"I'm hunting wabbits\")\n",
    "hunted1 = QuestionQuote('Bugs Bunny', \"What's up, doc\")\n",
    "hunted2 = ExclamationQuote('Daffy Duck', \"It's rabbit season\")\n",
    "brook = BabblingBrook()"
   ]
  },
  {
   "cell_type": "code",
   "execution_count": 53,
   "metadata": {},
   "outputs": [],
   "source": [
    "# 现在，对不同对象执行 who() 和 says() 方法，其中有一个（brook）与其他类型的对象毫无关联：\n",
    "def who_says(obj):\n",
    "    print(obj.who(), 'says', obj.says())"
   ]
  },
  {
   "cell_type": "code",
   "execution_count": 54,
   "metadata": {},
   "outputs": [
    {
     "output_type": "stream",
     "name": "stdout",
     "text": [
      "Elmer Fudd says I'm hunting wabbits.\n"
     ]
    }
   ],
   "source": [
    "who_says(hunter)"
   ]
  },
  {
   "cell_type": "code",
   "execution_count": 55,
   "metadata": {},
   "outputs": [
    {
     "output_type": "stream",
     "name": "stdout",
     "text": [
      "Bugs Bunny says What's up, doc?\n"
     ]
    }
   ],
   "source": [
    "who_says(hunted1)"
   ]
  },
  {
   "cell_type": "code",
   "execution_count": 56,
   "metadata": {},
   "outputs": [
    {
     "output_type": "stream",
     "name": "stdout",
     "text": [
      "Daffy Duck says It's rabbit season!\n"
     ]
    }
   ],
   "source": [
    "who_says(hunted2)"
   ]
  },
  {
   "cell_type": "code",
   "execution_count": 57,
   "metadata": {},
   "outputs": [
    {
     "output_type": "stream",
     "name": "stdout",
     "text": [
      "Brook says Babble\n"
     ]
    }
   ],
   "source": [
    "who_says(brook)"
   ]
  },
  {
   "source": [
    "这种方式有时被称作鸭子类型（duck typing），这个命名源自一句名言：  \n",
    "***如果它像鸭子一样走路，像鸭子一样叫，那么它就是一只鸭子***"
   ],
   "cell_type": "markdown",
   "metadata": {}
  }
 ]
}